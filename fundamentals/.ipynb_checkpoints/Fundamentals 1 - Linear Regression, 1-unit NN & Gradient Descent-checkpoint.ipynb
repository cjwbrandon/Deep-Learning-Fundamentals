{
 "cells": [
  {
   "cell_type": "markdown",
   "metadata": {},
   "source": [
    "# Introduction\n",
    "\n",
    "In this series of notebooks, I intend to experiment with how Neural Networks fundamentally works as well as different environments affects how the Neural Network performs.\n",
    "\n",
    "I would also like to reference to Andrew Ng's Deep Learning Specialisation on Coursera. I will be using these experiments as a form of practicing the theories that were presented in the courses and thus, will be largely aligned with the course itself. You will be able to find the course via this link: https://www.coursera.org/specializations/deep-learning"
   ]
  },
  {
   "cell_type": "code",
   "execution_count": 1,
   "metadata": {},
   "outputs": [],
   "source": [
    "import torch\n",
    "from torch import nn\n",
    "from torch import optim\n",
    "from torch import distributions as dist\n",
    "\n",
    "import numpy as np"
   ]
  },
  {
   "cell_type": "markdown",
   "metadata": {},
   "source": [
    "# NN & Linear Regression Relationship"
   ]
  },
  {
   "cell_type": "markdown",
   "metadata": {},
   "source": [
    "## Random data - Linear Relationship"
   ]
  },
  {
   "cell_type": "code",
   "execution_count": 2,
   "metadata": {},
   "outputs": [],
   "source": [
    "# Uniform distribution from 0 to 100\n",
    "x = torch.rand(100, 2) * 100\n",
    "# y = 0.8.x1 + 1.5.x2 + noise\n",
    "y = (0.8*x[:, 0] + 1.5*x[:, 1]).resize_((100, 1))\n",
    "noise = dist.normal.Normal(torch.tensor([0.0]), torch.tensor([2.0]))\n",
    "y += noise.sample(torch.Size([100]))"
   ]
  },
  {
   "cell_type": "markdown",
   "metadata": {},
   "source": [
    "## Linear Reg"
   ]
  },
  {
   "cell_type": "code",
   "execution_count": 3,
   "metadata": {},
   "outputs": [],
   "source": [
    "from sklearn.linear_model import LinearRegression\n",
    "from sklearn.metrics import mean_squared_error"
   ]
  },
  {
   "cell_type": "code",
   "execution_count": 4,
   "metadata": {},
   "outputs": [],
   "source": [
    "lin_reg = LinearRegression()"
   ]
  },
  {
   "cell_type": "code",
   "execution_count": 5,
   "metadata": {},
   "outputs": [
    {
     "data": {
      "text/plain": [
       "LinearRegression(copy_X=True, fit_intercept=True, n_jobs=None, normalize=False)"
      ]
     },
     "execution_count": 5,
     "metadata": {},
     "output_type": "execute_result"
    }
   ],
   "source": [
    "lin_reg.fit(x, y)"
   ]
  },
  {
   "cell_type": "code",
   "execution_count": 6,
   "metadata": {},
   "outputs": [
    {
     "data": {
      "text/plain": [
       "array([[0.785756 , 1.5100229]], dtype=float32)"
      ]
     },
     "execution_count": 6,
     "metadata": {},
     "output_type": "execute_result"
    }
   ],
   "source": [
    "coef = lin_reg.coef_\n",
    "coef"
   ]
  },
  {
   "cell_type": "code",
   "execution_count": 8,
   "metadata": {},
   "outputs": [
    {
     "data": {
      "text/plain": [
       "3.455973"
      ]
     },
     "execution_count": 8,
     "metadata": {},
     "output_type": "execute_result"
    }
   ],
   "source": [
    "lin_loss = mean_squared_error(y, lin_reg.predict(x))\n",
    "lin_loss"
   ]
  },
  {
   "cell_type": "markdown",
   "metadata": {},
   "source": [
    "## 1-unit NN"
   ]
  },
  {
   "cell_type": "code",
   "execution_count": 9,
   "metadata": {},
   "outputs": [],
   "source": [
    "# 1 neuron taking in 2 variables as inputs\n",
    "one_model = nn.Sequential(\n",
    "    nn.Linear(2,1)\n",
    ")\n",
    "\n",
    "# loss function - MSE, optimiser - SGD\n",
    "criterion = nn.MSELoss()\n",
    "optimizer = optim.SGD(one_model.parameters(), lr=0.0001) # Define our optimizer"
   ]
  },
  {
   "cell_type": "code",
   "execution_count": 10,
   "metadata": {},
   "outputs": [],
   "source": [
    "# since NN is trained using Gradient Descent, we need to create a loop to train our model\n",
    "epochs = 100\n",
    "for e in range(epochs):\n",
    "    optimizer.zero_grad() # zero out gradients before we train\n",
    "    \n",
    "    output = one_model.forward(x) # forward propagation\n",
    "    loss  = criterion(output, y) # calculate cost function\n",
    "    loss.backward() # calculate gradients\n",
    "    optimizer.step() # 1 step in updating weights"
   ]
  },
  {
   "cell_type": "code",
   "execution_count": 11,
   "metadata": {},
   "outputs": [
    {
     "data": {
      "text/plain": [
       "tensor([[0.7825, 1.5072]])"
      ]
     },
     "execution_count": 11,
     "metadata": {},
     "output_type": "execute_result"
    }
   ],
   "source": [
    "list(one_model.parameters())[0].data"
   ]
  },
  {
   "cell_type": "code",
   "execution_count": 16,
   "metadata": {},
   "outputs": [
    {
     "data": {
      "text/plain": [
       "3.4748077"
      ]
     },
     "execution_count": 16,
     "metadata": {},
     "output_type": "execute_result"
    }
   ],
   "source": [
    "mean_squared_error(y, one_model.forward(x).data.numpy())"
   ]
  },
  {
   "cell_type": "code",
   "execution_count": 17,
   "metadata": {},
   "outputs": [],
   "source": [
    "# since NN is trained using Gradient Descent, we need to create a loop to train our model\n",
    "epochs = 1000\n",
    "for e in range(epochs):\n",
    "    optimizer.zero_grad() # zero out gradients before we train\n",
    "    \n",
    "    output = one_model.forward(x) # forward propagation\n",
    "    loss  = criterion(output, y) # calculate cost function\n",
    "    loss.backward() # calculate gradients\n",
    "    optimizer.step() # 1 step in updating weights"
   ]
  },
  {
   "cell_type": "code",
   "execution_count": 18,
   "metadata": {},
   "outputs": [
    {
     "data": {
      "text/plain": [
       "tensor([[0.7826, 1.5073]])"
      ]
     },
     "execution_count": 18,
     "metadata": {},
     "output_type": "execute_result"
    }
   ],
   "source": [
    "list(one_model.parameters())[0].data"
   ]
  },
  {
   "cell_type": "code",
   "execution_count": 19,
   "metadata": {},
   "outputs": [
    {
     "data": {
      "text/plain": [
       "3.4738483"
      ]
     },
     "execution_count": 19,
     "metadata": {},
     "output_type": "execute_result"
    }
   ],
   "source": [
    "mean_squared_error(y, one_model.forward(x).data.numpy())"
   ]
  },
  {
   "cell_type": "code",
   "execution_count": 20,
   "metadata": {},
   "outputs": [],
   "source": [
    "# since NN is trained using Gradient Descent, we need to create a loop to train our model\n",
    "epochs = 100000\n",
    "for e in range(epochs):\n",
    "    optimizer.zero_grad() # zero out gradients before we train\n",
    "    \n",
    "    output = one_model.forward(x) # forward propagation\n",
    "    loss  = criterion(output, y) # calculate cost function\n",
    "    loss.backward() # calculate gradients\n",
    "    optimizer.step() # 1 step in updating weights"
   ]
  },
  {
   "cell_type": "code",
   "execution_count": 21,
   "metadata": {},
   "outputs": [
    {
     "data": {
      "text/plain": [
       "array([0.785524 , 1.5098207], dtype=float32)"
      ]
     },
     "execution_count": 21,
     "metadata": {},
     "output_type": "execute_result"
    }
   ],
   "source": [
    "nn_coef = list(one_model.parameters())[0].data.numpy()[0]\n",
    "nn_coef"
   ]
  },
  {
   "cell_type": "code",
   "execution_count": 22,
   "metadata": {},
   "outputs": [
    {
     "data": {
      "text/plain": [
       "3.4560676"
      ]
     },
     "execution_count": 22,
     "metadata": {},
     "output_type": "execute_result"
    }
   ],
   "source": [
    "nn_loss = mean_squared_error(y, one_model.forward(x).data.numpy())\n",
    "nn_loss"
   ]
  },
  {
   "cell_type": "markdown",
   "metadata": {},
   "source": [
    "We observe that as our training loops approaches infinity, our trained coefficients essentially approachs that of the Linear Regression. Fundamentally, a 1 neuron NN is essentially a Linear Regression model that is optimised using Gradient Descent."
   ]
  },
  {
   "cell_type": "markdown",
   "metadata": {},
   "source": [
    "# How NN or ML in general strives off data\n",
    "\n",
    "As seen above, both the NN and the Linear Regression models were unable to converge toward the exact weights used to generate the dataset. I will be exploring how having more data can actually solve this problem."
   ]
  },
  {
   "cell_type": "code",
   "execution_count": 24,
   "metadata": {},
   "outputs": [],
   "source": [
    "# increasing the samples to 10,000\n",
    "sample_size = 10000\n",
    "# Uniform distribution from 0 to 100\n",
    "x = torch.rand(sample_size, 2) * 100\n",
    "# y = 0.8.x1 + 1.5.x2 + noise\n",
    "y = (0.8*x[:, 0] + 1.5*x[:, 1]).resize_((sample_size, 1))\n",
    "noise = dist.normal.Normal(torch.tensor([0.0]), torch.tensor([2.0]))\n",
    "y += noise.sample(torch.Size([sample_size]))"
   ]
  },
  {
   "cell_type": "code",
   "execution_count": 25,
   "metadata": {},
   "outputs": [
    {
     "data": {
      "text/plain": [
       "array([[0.01424401, 0.01002288]])"
      ]
     },
     "execution_count": 25,
     "metadata": {},
     "output_type": "execute_result"
    }
   ],
   "source": [
    "# Linear Reg: difference between old coefficients and actual coefficients\n",
    "abs([0.8, 1.5] - coef)"
   ]
  },
  {
   "cell_type": "code",
   "execution_count": 27,
   "metadata": {},
   "outputs": [
    {
     "data": {
      "text/plain": [
       "3.455973"
      ]
     },
     "execution_count": 27,
     "metadata": {},
     "output_type": "execute_result"
    }
   ],
   "source": [
    "# old MSE\n",
    "lin_loss"
   ]
  },
  {
   "cell_type": "code",
   "execution_count": 28,
   "metadata": {},
   "outputs": [],
   "source": [
    "lin_reg = LinearRegression()\n",
    "lin_reg.fit(x, y)\n",
    "coef = lin_reg.coef_"
   ]
  },
  {
   "cell_type": "code",
   "execution_count": 29,
   "metadata": {},
   "outputs": [
    {
     "data": {
      "text/plain": [
       "array([[3.98635864e-05, 5.26189804e-04]])"
      ]
     },
     "execution_count": 29,
     "metadata": {},
     "output_type": "execute_result"
    }
   ],
   "source": [
    "# Linear Reg: difference between new coefficients and actual coefficients\n",
    "abs([0.8, 1.5] - coef)"
   ]
  },
  {
   "cell_type": "code",
   "execution_count": 30,
   "metadata": {},
   "outputs": [
    {
     "data": {
      "text/plain": [
       "4.0370216"
      ]
     },
     "execution_count": 30,
     "metadata": {},
     "output_type": "execute_result"
    }
   ],
   "source": [
    "lin_loss = mean_squared_error(y, lin_reg.predict(x))\n",
    "lin_loss"
   ]
  },
  {
   "cell_type": "code",
   "execution_count": 31,
   "metadata": {},
   "outputs": [],
   "source": [
    "#  retraining the NN\n",
    "# 1 neuron taking in 2 variables as inputs\n",
    "one_model = nn.Sequential(\n",
    "    nn.Linear(2,1)\n",
    ")\n",
    "\n",
    "# loss function - MSE, optimiser - SGD\n",
    "criterion = nn.MSELoss()\n",
    "optimizer = optim.SGD(one_model.parameters(), lr=0.0001) # Define our optimizer"
   ]
  },
  {
   "cell_type": "code",
   "execution_count": 32,
   "metadata": {},
   "outputs": [
    {
     "data": {
      "text/plain": [
       "array([0.01447599, 0.0098207 ])"
      ]
     },
     "execution_count": 32,
     "metadata": {},
     "output_type": "execute_result"
    }
   ],
   "source": [
    "# 1-unit NN: difference between old coefficients and actual coefficients\n",
    "abs([0.8, 1.5] - nn_coef)"
   ]
  },
  {
   "cell_type": "code",
   "execution_count": 33,
   "metadata": {},
   "outputs": [],
   "source": [
    "# since NN is trained using Gradient Descent, we need to create a loop to train our model\n",
    "epochs = 100000\n",
    "for e in range(epochs):\n",
    "    optimizer.zero_grad() # zero out gradients before we train\n",
    "    \n",
    "    output = one_model.forward(x) # forward propagation\n",
    "    loss  = criterion(output, y) # calculate cost function\n",
    "    loss.backward() # calculate gradients\n",
    "    optimizer.step() # 1 step in updating weights"
   ]
  },
  {
   "cell_type": "code",
   "execution_count": 34,
   "metadata": {},
   "outputs": [
    {
     "data": {
      "text/plain": [
       "array([0.7999441, 1.5005094], dtype=float32)"
      ]
     },
     "execution_count": 34,
     "metadata": {},
     "output_type": "execute_result"
    }
   ],
   "source": [
    "nn_coef = list(one_model.parameters())[0].data.numpy()[0]\n",
    "nn_coef"
   ]
  },
  {
   "cell_type": "code",
   "execution_count": 35,
   "metadata": {},
   "outputs": [
    {
     "data": {
      "text/plain": [
       "array([5.58972359e-05, 5.09381294e-04])"
      ]
     },
     "execution_count": 35,
     "metadata": {},
     "output_type": "execute_result"
    }
   ],
   "source": [
    "# 1-unit NN: difference between new coefficients and actual coefficients\n",
    "abs([0.8, 1.5] - nn_coef)"
   ]
  },
  {
   "cell_type": "code",
   "execution_count": 36,
   "metadata": {},
   "outputs": [
    {
     "data": {
      "text/plain": [
       "4.037021"
      ]
     },
     "execution_count": 36,
     "metadata": {},
     "output_type": "execute_result"
    }
   ],
   "source": [
    "nn_loss = mean_squared_error(y, one_model.forward(x).data.numpy())\n",
    "nn_loss"
   ]
  },
  {
   "cell_type": "markdown",
   "metadata": {},
   "source": [
    "We observe that the coefficients gets closer to the actual values despite the noise. This is largely because with more data points, we are able to cover the distribution space better and thus, our models are able to better map the independent and dependent variables."
   ]
  },
  {
   "cell_type": "markdown",
   "metadata": {},
   "source": [
    "# What is Gradient Descent? (simplified)\n",
    "\n",
    "At the start, a NN has to start its weights (coefficients) somewhere. We call this the random initialisation of weights where there are a bunch of techniques that we will cover later. Due to this random 'starting point', it is unlikely for the NN to do well at the start. This would lead to very inaccurate predictions that we present using our loss/ cost function. As such, in order to do better at the predictions, we need the NN to learn as it observes these data points and this is done using Gradient Descent.\n",
    "\n",
    "How this happens is through a multiple step process:\n",
    "1. Forward propagation --> we pass the data points through the Network to calculate a prediction\n",
    "2. Calculate Cost function --> How accurate did the Network do this time?\n",
    "3. Back propagtion --> Using our errors, we can improve our network by tweaking the parameters (coefficients). Back propagation calculates by how much should we tweak the parameters.\n",
    "4. Update Weights (step) --> We update the parameters (coefficients) using the calculated values and restart the cycle.\n",
    "\n",
    "Through this process, we can consistently make better and better predictions as the Network continues to learn from its error and slowly descent down to the optimal solution using the gradients calculated."
   ]
  },
  {
   "cell_type": "code",
   "execution_count": 53,
   "metadata": {},
   "outputs": [],
   "source": [
    "#  retraining the NN\n",
    "# 1 neuron taking in 2 variables as inputs\n",
    "one_model = nn.Sequential(\n",
    "    nn.Linear(2,1)\n",
    ")\n",
    "\n",
    "# loss function - MSE, optimiser - SGD\n",
    "criterion = nn.MSELoss()\n",
    "optimizer = optim.SGD(one_model.parameters(), lr=0.0001) # Define our optimizer"
   ]
  },
  {
   "cell_type": "code",
   "execution_count": 52,
   "metadata": {
    "scrolled": true
   },
   "outputs": [
    {
     "name": "stdout",
     "output_type": "stream",
     "text": [
      "Training loss: 28298.03125\n",
      "Training loss: 624.4863891601562\n",
      "Training loss: 27.414464950561523\n",
      "Training loss: 11.572626113891602\n",
      "Training loss: 9.108637809753418\n",
      "Training loss: 7.57782506942749\n",
      "Training loss: 6.516835689544678\n",
      "Training loss: 5.778843402862549\n",
      "Training loss: 5.26546573638916\n",
      "Training loss: 4.908335208892822\n",
      "Training loss: 4.6598944664001465\n",
      "Training loss: 4.487067222595215\n",
      "Training loss: 4.3668389320373535\n",
      "Training loss: 4.283201217651367\n",
      "Training loss: 4.22501802444458\n",
      "Training loss: 4.18454122543335\n",
      "Training loss: 4.156383514404297\n",
      "Training loss: 4.136794567108154\n",
      "Training loss: 4.123166084289551\n",
      "Training loss: 4.113684177398682\n",
      "Training loss: 4.107088565826416\n",
      "Training loss: 4.102499008178711\n",
      "Training loss: 4.099304676055908\n",
      "Training loss: 4.097081661224365\n",
      "Training loss: 4.095536231994629\n",
      "Training loss: 4.094457626342773\n",
      "Training loss: 4.0937066078186035\n",
      "Training loss: 4.093184947967529\n",
      "Training loss: 4.0928192138671875\n",
      "Training loss: 4.092565059661865\n",
      "Training loss: 4.092386722564697\n",
      "Training loss: 4.09226131439209\n",
      "Training loss: 4.0921735763549805\n",
      "Training loss: 4.092113971710205\n",
      "Training loss: 4.092069149017334\n",
      "Training loss: 4.092037677764893\n",
      "Training loss: 4.092013835906982\n",
      "Training loss: 4.091996669769287\n",
      "Training loss: 4.091983795166016\n",
      "Training loss: 4.09197473526001\n",
      "Training loss: 4.09196662902832\n",
      "Training loss: 4.0919599533081055\n",
      "Training loss: 4.091955661773682\n",
      "Training loss: 4.0919508934021\n",
      "Training loss: 4.091946601867676\n",
      "Training loss: 4.091941833496094\n",
      "Training loss: 4.091939926147461\n",
      "Training loss: 4.091935634613037\n",
      "Training loss: 4.09193229675293\n",
      "Training loss: 4.091929912567139\n",
      "Training loss: 4.091926097869873\n",
      "Training loss: 4.091921806335449\n",
      "Training loss: 4.091919898986816\n",
      "Training loss: 4.091917037963867\n",
      "Training loss: 4.091912746429443\n",
      "Training loss: 4.091909885406494\n",
      "Training loss: 4.091907024383545\n",
      "Training loss: 4.091901779174805\n",
      "Training loss: 4.09190034866333\n",
      "Training loss: 4.091897964477539\n",
      "Training loss: 4.091893672943115\n",
      "Training loss: 4.091890811920166\n",
      "Training loss: 4.091888427734375\n",
      "Training loss: 4.091883659362793\n",
      "Training loss: 4.091880798339844\n",
      "Training loss: 4.091879367828369\n",
      "Training loss: 4.0918755531311035\n",
      "Training loss: 4.091871738433838\n",
      "Training loss: 4.091869354248047\n",
      "Training loss: 4.0918660163879395\n",
      "Training loss: 4.091862678527832\n",
      "Training loss: 4.091860771179199\n",
      "Training loss: 4.091857433319092\n",
      "Training loss: 4.091854095458984\n",
      "Training loss: 4.091850757598877\n",
      "Training loss: 4.091846942901611\n",
      "Training loss: 4.091843605041504\n",
      "Training loss: 4.0918402671813965\n",
      "Training loss: 4.09183931350708\n",
      "Training loss: 4.091835021972656\n",
      "Training loss: 4.091831207275391\n",
      "Training loss: 4.0918288230896\n",
      "Training loss: 4.09182596206665\n",
      "Training loss: 4.091821670532227\n",
      "Training loss: 4.091819763183594\n",
      "Training loss: 4.0918169021606445\n",
      "Training loss: 4.091813087463379\n",
      "Training loss: 4.09181022644043\n",
      "Training loss: 4.0918073654174805\n",
      "Training loss: 4.091803073883057\n",
      "Training loss: 4.091800212860107\n",
      "Training loss: 4.091799259185791\n",
      "Training loss: 4.091795444488525\n",
      "Training loss: 4.09179162979126\n",
      "Training loss: 4.0917887687683105\n",
      "Training loss: 4.091785430908203\n",
      "Training loss: 4.091780662536621\n",
      "Training loss: 4.09177827835083\n",
      "Training loss: 4.0917768478393555\n",
      "Training loss: 4.091773509979248\n"
     ]
    }
   ],
   "source": [
    "# Reusing the training loop above\n",
    "epochs = 100\n",
    "running_loss = [] # store our loss after each step\n",
    "\n",
    "for e in range(epochs):\n",
    "    optimizer.zero_grad() # zero out gradients before we train\n",
    "    \n",
    "    output = one_model.forward(x) # forward propagation\n",
    "    loss  = criterion(output, y) # calculate cost function\n",
    "    running_loss.append(loss) # store loss\n",
    "    \n",
    "    loss.backward() # calculate gradients\n",
    "    optimizer.step() # 1 step in updating weights\n",
    "    print(f\"Training loss: {loss.item()}\")"
   ]
  },
  {
   "cell_type": "code",
   "execution_count": 58,
   "metadata": {},
   "outputs": [
    {
     "data": {
      "text/plain": [
       "[<matplotlib.lines.Line2D at 0x7f96e3a9f9d0>]"
      ]
     },
     "execution_count": 58,
     "metadata": {},
     "output_type": "execute_result"
    },
    {
     "data": {
      "image/png": "[encoded data removed]",
      "text/plain": [
       "<Figure size 1440x720 with 1 Axes>"
      ]
     },
     "metadata": {
      "needs_background": "light"
     },
     "output_type": "display_data"
    }
   ],
   "source": [
    "import matplotlib.pyplot as plt\n",
    "%matplotlib inline\n",
    "\n",
    "plt.figure(figsize=[20,10])\n",
    "plt.plot(range(1, 9), running_loss[:8])"
   ]
  },
  {
   "cell_type": "markdown",
   "metadata": {},
   "source": [
    "As we can see from this example, the cost function slowly descents each time we pass the dataset through the network and update the weights based on its errors. The Network continues to improve and produce more accurate predictions the more times it 'sees' the dataset."
   ]
  },
  {
   "cell_type": "code",
   "execution_count": null,
   "metadata": {},
   "outputs": [],
   "source": []
  }
 ],
 "metadata": {
  "kernelspec": {
   "display_name": "Python 3",
   "language": "python",
   "name": "python3"
  },
  "language_info": {
   "codemirror_mode": {
    "name": "ipython",
    "version": 3
   },
   "file_extension": ".py",
   "mimetype": "text/x-python",
   "name": "python",
   "nbconvert_exporter": "python",
   "pygments_lexer": "ipython3",
   "version": "3.7.4"
  }
 },
 "nbformat": 4,
 "nbformat_minor": 2
}
